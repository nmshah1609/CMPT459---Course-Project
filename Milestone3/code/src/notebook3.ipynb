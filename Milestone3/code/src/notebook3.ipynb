{
  "nbformat": 4,
  "nbformat_minor": 0,
  "metadata": {
    "colab": {
      "name": "notebook3.ipynb",
      "provenance": [],
      "collapsed_sections": []
    },
    "kernelspec": {
      "name": "python3",
      "display_name": "Python 3"
    },
    "accelerator": "GPU"
  },
  "cells": [
    {
      "cell_type": "code",
      "metadata": {
        "colab": {
          "base_uri": "https://localhost:8080/"
        },
        "id": "2Gh3BFYIQJrg",
        "outputId": "aba2366f-5a7f-4227-956b-ebb73e0d4343"
      },
      "source": [
        " !pip install ppscore\n",
        " !pip install imblearn"
      ],
      "execution_count": null,
      "outputs": [
        {
          "output_type": "stream",
          "text": [
            "Collecting ppscore\n",
            "  Downloading https://files.pythonhosted.org/packages/90/df/b4ae18f31e2be37d81fa9956774bd192c0d3f759885f3b1974024bb37faa/ppscore-1.1.1.tar.gz\n",
            "Requirement already satisfied: pandas<2.0.0,>=1.0.0 in /usr/local/lib/python3.6/dist-packages (from ppscore) (1.1.5)\n",
            "Requirement already satisfied: scikit-learn<1.0.0,>=0.20.2 in /usr/local/lib/python3.6/dist-packages (from ppscore) (0.22.2.post1)\n",
            "Requirement already satisfied: python-dateutil>=2.7.3 in /usr/local/lib/python3.6/dist-packages (from pandas<2.0.0,>=1.0.0->ppscore) (2.8.1)\n",
            "Requirement already satisfied: numpy>=1.15.4 in /usr/local/lib/python3.6/dist-packages (from pandas<2.0.0,>=1.0.0->ppscore) (1.18.5)\n",
            "Requirement already satisfied: pytz>=2017.2 in /usr/local/lib/python3.6/dist-packages (from pandas<2.0.0,>=1.0.0->ppscore) (2018.9)\n",
            "Requirement already satisfied: joblib>=0.11 in /usr/local/lib/python3.6/dist-packages (from scikit-learn<1.0.0,>=0.20.2->ppscore) (0.17.0)\n",
            "Requirement already satisfied: scipy>=0.17.0 in /usr/local/lib/python3.6/dist-packages (from scikit-learn<1.0.0,>=0.20.2->ppscore) (1.4.1)\n",
            "Requirement already satisfied: six>=1.5 in /usr/local/lib/python3.6/dist-packages (from python-dateutil>=2.7.3->pandas<2.0.0,>=1.0.0->ppscore) (1.15.0)\n",
            "Building wheels for collected packages: ppscore\n",
            "  Building wheel for ppscore (setup.py) ... \u001b[?25l\u001b[?25hdone\n",
            "  Created wheel for ppscore: filename=ppscore-1.1.1-py2.py3-none-any.whl size=12988 sha256=3f6c9ed6c6c77f3eff0603684b7fcba73d184c0f66179c37ffe360893d2b6339\n",
            "  Stored in directory: /root/.cache/pip/wheels/3a/16/cb/4768ae3fd9f02af8cd6d880b9095281cc62bb1748fac67fdc4\n",
            "Successfully built ppscore\n",
            "Installing collected packages: ppscore\n",
            "Successfully installed ppscore-1.1.1\n",
            "Requirement already satisfied: imblearn in /usr/local/lib/python3.6/dist-packages (0.0)\n",
            "Requirement already satisfied: imbalanced-learn in /usr/local/lib/python3.6/dist-packages (from imblearn) (0.4.3)\n",
            "Requirement already satisfied: numpy>=1.8.2 in /usr/local/lib/python3.6/dist-packages (from imbalanced-learn->imblearn) (1.18.5)\n",
            "Requirement already satisfied: scikit-learn>=0.20 in /usr/local/lib/python3.6/dist-packages (from imbalanced-learn->imblearn) (0.22.2.post1)\n",
            "Requirement already satisfied: scipy>=0.13.3 in /usr/local/lib/python3.6/dist-packages (from imbalanced-learn->imblearn) (1.4.1)\n",
            "Requirement already satisfied: joblib>=0.11 in /usr/local/lib/python3.6/dist-packages (from scikit-learn>=0.20->imbalanced-learn->imblearn) (0.17.0)\n"
          ],
          "name": "stdout"
        }
      ]
    },
    {
      "cell_type": "code",
      "metadata": {
        "id": "UDi8doUh3-mq",
        "colab": {
          "base_uri": "https://localhost:8080/"
        },
        "outputId": "a61bc164-f79c-4288-cdb8-223cf69ed151"
      },
      "source": [
        "import ppscore as pps\n",
        "import pandas as pd \n",
        "import numpy as np \n",
        "\n",
        "import random\n",
        "import os\n",
        "\n",
        "from sklearn import preprocessing\n",
        "from xgboost import XGBClassifier\n",
        "from sklearn.metrics import accuracy_score\n",
        "from sklearn.metrics import confusion_matrix\n",
        "from sklearn.metrics import classification_report\n",
        "from sklearn.neighbors import KNeighborsClassifier\n",
        "from sklearn.ensemble import RandomForestClassifier\n",
        "from sklearn.model_selection import StratifiedKFold\n",
        "\n",
        "from sklearn.metrics import accuracy_score, make_scorer, recall_score, precision_score, f1_score\n",
        "from sklearn.model_selection import GridSearchCV\n",
        "from sklearn.model_selection import RandomizedSearchCV\n",
        "from imblearn.over_sampling import SMOTE\n",
        "import collections"
      ],
      "execution_count": null,
      "outputs": [
        {
          "output_type": "stream",
          "text": [
            "/usr/local/lib/python3.6/dist-packages/sklearn/externals/six.py:31: FutureWarning: The module is deprecated in version 0.21 and will be removed in version 0.23 since we've dropped support for Python 2.7. Please rely on the official version of six (https://pypi.org/project/six/).\n",
            "  \"(https://pypi.org/project/six/).\", FutureWarning)\n",
            "/usr/local/lib/python3.6/dist-packages/sklearn/utils/deprecation.py:144: FutureWarning: The sklearn.neighbors.base module is  deprecated in version 0.22 and will be removed in version 0.24. The corresponding classes / functions should instead be imported from sklearn.neighbors. Anything that cannot be imported from sklearn.neighbors is now part of the private API.\n",
            "  warnings.warn(message, FutureWarning)\n"
          ],
          "name": "stderr"
        }
      ]
    },
    {
      "cell_type": "markdown",
      "metadata": {
        "id": "oft8edtMRGAM"
      },
      "source": [
        "#Loading Dataset"
      ]
    },
    {
      "cell_type": "code",
      "metadata": {
        "id": "FYW1zNs84JHO",
        "colab": {
          "base_uri": "https://localhost:8080/"
        },
        "outputId": "be556c7f-855e-452e-ef3d-f78c5e4012e7"
      },
      "source": [
        "#uploading dataset\n",
        "from google.colab import drive\n",
        "drive.mount('/content/gdrive/')"
      ],
      "execution_count": null,
      "outputs": [
        {
          "output_type": "stream",
          "text": [
            "Mounted at /content/gdrive/\n"
          ],
          "name": "stdout"
        }
      ]
    },
    {
      "cell_type": "code",
      "metadata": {
        "id": "qldApM434gcY"
      },
      "source": [
        "os.chdir(\"/content/gdrive/My Drive/459\")"
      ],
      "execution_count": null,
      "outputs": []
    },
    {
      "cell_type": "code",
      "metadata": {
        "id": "DVzC_j-ZSIjq"
      },
      "source": [
        "os.chdir(\"/content/gdrive/My Drive/459\")"
      ],
      "execution_count": null,
      "outputs": []
    },
    {
      "cell_type": "code",
      "metadata": {
        "colab": {
          "base_uri": "https://localhost:8080/"
        },
        "id": "H_0GAbDeQfZR",
        "outputId": "348f655a-5c03-4849-e237-ca2c547d7d7e"
      },
      "source": [
        "ls"
      ],
      "execution_count": null,
      "outputs": [
        {
          "output_type": "stream",
          "text": [
            " \u001b[0m\u001b[01;34mFinal\u001b[0m/              \u001b[01;34m'Milestone 1 & 2'\u001b[0m/   rf.csv        xgb.csv\n",
            "'Final Report.gdoc'   rf2.gsheet          rf_temp.csv\n"
          ],
          "name": "stdout"
        }
      ]
    },
    {
      "cell_type": "markdown",
      "metadata": {
        "id": "kAg6invFRK1d"
      },
      "source": [
        "#Reading Dataset"
      ]
    },
    {
      "cell_type": "code",
      "metadata": {
        "colab": {
          "base_uri": "https://localhost:8080/"
        },
        "id": "GfCQA8U5QxgL",
        "outputId": "61c5b2c6-e437-45c3-9449-43a727b7a297"
      },
      "source": [
        "data = pd.read_csv(\"/content/gdrive/My Drive/459/Final/milestone1.csv\")\n",
        "print(data.describe())"
      ],
      "execution_count": null,
      "outputs": [
        {
          "output_type": "stream",
          "text": [
            "                 age       latitude  ...  Incidence_Rate  Case.Fatality_Ratio\n",
            "count  456763.000000  456763.000000  ...   456763.000000        456763.000000\n",
            "mean       43.277781      20.397071  ...      983.925039             2.967061\n",
            "std        12.170669      17.757288  ...      950.046445             2.079119\n",
            "min         0.000000     -53.166667  ...        0.029070             0.000000\n",
            "25%        43.000000      13.083620  ...      279.548898             1.739222\n",
            "50%        43.000000      19.200000  ...      744.467146             2.723007\n",
            "75%        43.000000      28.614740  ...      983.839751             3.680701\n",
            "max       106.000000      66.830900  ...     7938.444370            18.494473\n",
            "\n",
            "[8 rows x 9 columns]\n"
          ],
          "name": "stdout"
        }
      ]
    },
    {
      "cell_type": "markdown",
      "metadata": {
        "id": "wYrrl0LRRC7j"
      },
      "source": [
        "#Preprocessing"
      ]
    },
    {
      "cell_type": "code",
      "metadata": {
        "colab": {
          "base_uri": "https://localhost:8080/"
        },
        "id": "OwtZ77VHssYW",
        "outputId": "c2bb0e0b-9710-4733-f026-aa5ad8bf39eb"
      },
      "source": [
        "data = data.drop('Last_Update',axis=1)\n",
        "print(data.isnull().sum())\n",
        "data = data.drop('sex',axis=1)\n",
        "\n",
        "data['date_confirmation'] = pd.to_datetime(data['date_confirmation'], errors='coerce')\n",
        "data = data.fillna(method='ffill')\n",
        "data.date_confirmation = data.date_confirmation.apply(lambda x: int(x.strftime('%d%m%Y')))\n",
        "\n",
        "pps_df = pps.predictors(data, y=\"outcome\",cross_validation=10,random_seed=123)\n",
        "pps_df = pps_df.sort_values(by=\"model_score\",axis=0,ascending=False)\n",
        "pps_df = pd.DataFrame(pps_df)\n",
        "cols = pps_df[pps_df['ppscore']>0.1]['x'].values"
      ],
      "execution_count": null,
      "outputs": [
        {
          "output_type": "stream",
          "text": [
            "age                         0\n",
            "sex                    279349\n",
            "province                    0\n",
            "country                     0\n",
            "latitude                    0\n",
            "longitude                   0\n",
            "date_confirmation         339\n",
            "outcome                     0\n",
            "Confirmed                   0\n",
            "Deaths                      0\n",
            "Recovered                   0\n",
            "Active                      0\n",
            "Combined_Key                0\n",
            "Incidence_Rate              0\n",
            "Case.Fatality_Ratio         0\n",
            "dtype: int64\n"
          ],
          "name": "stdout"
        }
      ]
    },
    {
      "cell_type": "code",
      "metadata": {
        "colab": {
          "base_uri": "https://localhost:8080/"
        },
        "id": "EETrbMNgQ-0V",
        "outputId": "0da26d07-82d7-4de6-ec16-aaf8e39bbde6"
      },
      "source": [
        "outcome = data.outcome\n",
        "data= data[cols]\n",
        "data['outcome'] = outcome\n",
        "data = data.drop('date_confirmation',axis=1)\n",
        "\n",
        "le = preprocessing.LabelEncoder()\n",
        "le = le.fit(data['outcome'])\n",
        "data.outcome = le.transform(data.outcome.values)\n",
        "\n",
        "\n",
        "for col in data.columns:\n",
        "\tif data[col].dtype == object:\n",
        "\t\tprint(col)\n",
        "\t\tle = preprocessing.LabelEncoder()\n",
        "\t\tle = le.fit(data[col])\n",
        "\t\tdata[col] = le.transform(data[col].values)\n",
        "\t\tdata = data.drop(col,axis=1) "
      ],
      "execution_count": null,
      "outputs": [
        {
          "output_type": "stream",
          "text": [
            "province\n",
            "Combined_Key\n",
            "country\n"
          ],
          "name": "stdout"
        }
      ]
    },
    {
      "cell_type": "markdown",
      "metadata": {
        "id": "4hdylxNIRQ2h"
      },
      "source": [
        "#Train-Test Split"
      ]
    },
    {
      "cell_type": "code",
      "metadata": {
        "colab": {
          "base_uri": "https://localhost:8080/"
        },
        "id": "fk6UFH9T36pd",
        "outputId": "63de2c1c-69a1-4de7-f8cf-5ef65d4fa8cf"
      },
      "source": [
        "index_train = random.sample(range(len(data)),int(len(data)*.75))\n",
        "train = data.iloc[index_train]\n",
        "test = data.drop(index_train,axis=0)\n",
        "print(len(train))\n",
        "print(len(test))\n",
        "y_train = train['outcome']\n",
        "y_test = test['outcome']\n",
        "print(y_test.value_counts())\n",
        "print(y_train.value_counts())\n",
        "X_train = train.drop('outcome',axis=1)\n",
        "X_test = test.drop('outcome',axis=1)"
      ],
      "execution_count": null,
      "outputs": [
        {
          "output_type": "stream",
          "text": [
            "342572\n",
            "114191\n",
            "1    49286\n",
            "2    40066\n",
            "3    23566\n",
            "0     1273\n",
            "Name: outcome, dtype: int64\n",
            "1    147898\n",
            "2    120066\n",
            "3     70767\n",
            "0      3841\n",
            "Name: outcome, dtype: int64\n"
          ],
          "name": "stdout"
        }
      ]
    },
    {
      "cell_type": "markdown",
      "metadata": {
        "id": "YrgKo65m6nF4"
      },
      "source": [
        "#XGBoost Classifier"
      ]
    },
    {
      "cell_type": "code",
      "metadata": {
        "id": "xID9_xN6d3pX"
      },
      "source": [
        "xgb_model = XGBClassifier(learning_rate=0.01, booster='gbtree')\n",
        "\n",
        "params = {  \n",
        "            'min_child_weight': [1, 5],\n",
        "            'max_depth': [3,6,10],\n",
        "            'n_estimators': [20,50,100,200]\n",
        "        }\n",
        "\n",
        "scorers = {\n",
        "    'f1_weighted' : make_scorer(f1_score, average='weighted'),\n",
        "    'precision_weighted': make_scorer(precision_score, average='weighted'),\n",
        "    'recall_weighted': make_scorer(recall_score , average='weighted'),\n",
        "    'accuracy': make_scorer(accuracy_score),\n",
        "    'recall[deceased]' : make_scorer(recall_score,average=None,labels=[0])\n",
        "}\n",
        "\n",
        "# scorers = ['f1_weighted','precision_weighted','recall_weighted','accuracy']\n",
        "\n",
        "\n",
        "skf = StratifiedKFold(n_splits=5, shuffle = True)\n",
        "\n",
        "xgb_clf = GridSearchCV(xgb_model, \n",
        "                    param_grid = params,\n",
        "                    scoring = scorers, \n",
        "                    n_jobs = -1, \n",
        "                    cv = skf.split(X_train, y_train),\n",
        "                    refit = 'recall[deceased]')\n",
        "\n",
        "xgb_clf.fit(X_train, y_train)"
      ],
      "execution_count": null,
      "outputs": []
    },
    {
      "cell_type": "code",
      "metadata": {
        "id": "_anc5VYA8NKW"
      },
      "source": [
        "xgb = pd.DataFrame(xgb_clf.cv_results_)\n",
        "xgb = xgb[['param_max_depth',\t'param_min_child_weight'\t, 'param_n_estimators', 'mean_test_f1_weighted', 'mean_test_precision_weighted', 'mean_test_recall_weighted','mean_test_recall[deceased]', 'mean_test_accuracy', 'rank_test_accuracy']]\n",
        "xgb = xgb.sort_values(by='rank_test_accuracy')\n",
        "xgb.to_csv('xgb.csv',index=False)"
      ],
      "execution_count": null,
      "outputs": []
    },
    {
      "cell_type": "code",
      "metadata": {
        "id": "8-o4d0Bh1xpk",
        "colab": {
          "base_uri": "https://localhost:8080/"
        },
        "outputId": "519e8810-bb55-4ef9-8fd5-cf3afd01fec9"
      },
      "source": [
        "print(xgb_clf.best_params_)\n",
        "print(xgb_clf.best_score_)"
      ],
      "execution_count": null,
      "outputs": [
        {
          "output_type": "stream",
          "text": [
            "{'n_estimators': 200, 'min_child_weight': 5, 'max_depth': 10}\n",
            "0.03386723505816701\n"
          ],
          "name": "stdout"
        }
      ]
    },
    {
      "cell_type": "code",
      "metadata": {
        "colab": {
          "base_uri": "https://localhost:8080/",
          "height": 689
        },
        "id": "IWTC8VhJlQgY",
        "outputId": "be9037ac-f556-4600-98a7-52c92189a9f0"
      },
      "source": [
        "xgb"
      ],
      "execution_count": null,
      "outputs": [
        {
          "output_type": "execute_result",
          "data": {
            "text/html": [
              "<div>\n",
              "<style scoped>\n",
              "    .dataframe tbody tr th:only-of-type {\n",
              "        vertical-align: middle;\n",
              "    }\n",
              "\n",
              "    .dataframe tbody tr th {\n",
              "        vertical-align: top;\n",
              "    }\n",
              "\n",
              "    .dataframe thead th {\n",
              "        text-align: right;\n",
              "    }\n",
              "</style>\n",
              "<table border=\"1\" class=\"dataframe\">\n",
              "  <thead>\n",
              "    <tr style=\"text-align: right;\">\n",
              "      <th></th>\n",
              "      <th>param_max_depth</th>\n",
              "      <th>param_min_child_weight</th>\n",
              "      <th>param_max_depth</th>\n",
              "      <th>param_n_estimators</th>\n",
              "      <th>mean_test_f1_weighted</th>\n",
              "      <th>mean_test_precision_weighted</th>\n",
              "      <th>mean_test_recall_weighted</th>\n",
              "      <th>mean_test_recall[deceased]</th>\n",
              "      <th>mean_test_accuracy</th>\n",
              "      <th>rank_test_accuracy</th>\n",
              "    </tr>\n",
              "  </thead>\n",
              "  <tbody>\n",
              "    <tr>\n",
              "      <th>18</th>\n",
              "      <td>10</td>\n",
              "      <td>0.5</td>\n",
              "      <td>10</td>\n",
              "      <td>200</td>\n",
              "      <td>0.761110</td>\n",
              "      <td>0.823142</td>\n",
              "      <td>0.808507</td>\n",
              "      <td>0.033867</td>\n",
              "      <td>0.808507</td>\n",
              "      <td>1</td>\n",
              "    </tr>\n",
              "    <tr>\n",
              "      <th>6</th>\n",
              "      <td>10</td>\n",
              "      <td>5</td>\n",
              "      <td>10</td>\n",
              "      <td>200</td>\n",
              "      <td>0.760904</td>\n",
              "      <td>0.822860</td>\n",
              "      <td>0.808359</td>\n",
              "      <td>0.033867</td>\n",
              "      <td>0.808359</td>\n",
              "      <td>2</td>\n",
              "    </tr>\n",
              "    <tr>\n",
              "      <th>4</th>\n",
              "      <td>10</td>\n",
              "      <td>0.5</td>\n",
              "      <td>10</td>\n",
              "      <td>20</td>\n",
              "      <td>0.757745</td>\n",
              "      <td>0.822373</td>\n",
              "      <td>0.806858</td>\n",
              "      <td>0.033079</td>\n",
              "      <td>0.806858</td>\n",
              "      <td>3</td>\n",
              "    </tr>\n",
              "    <tr>\n",
              "      <th>15</th>\n",
              "      <td>10</td>\n",
              "      <td>1</td>\n",
              "      <td>10</td>\n",
              "      <td>20</td>\n",
              "      <td>0.757734</td>\n",
              "      <td>0.822078</td>\n",
              "      <td>0.806838</td>\n",
              "      <td>0.033867</td>\n",
              "      <td>0.806838</td>\n",
              "      <td>4</td>\n",
              "    </tr>\n",
              "    <tr>\n",
              "      <th>0</th>\n",
              "      <td>10</td>\n",
              "      <td>5</td>\n",
              "      <td>10</td>\n",
              "      <td>100</td>\n",
              "      <td>0.757151</td>\n",
              "      <td>0.823013</td>\n",
              "      <td>0.806762</td>\n",
              "      <td>0.033604</td>\n",
              "      <td>0.806762</td>\n",
              "      <td>5</td>\n",
              "    </tr>\n",
              "    <tr>\n",
              "      <th>16</th>\n",
              "      <td>10</td>\n",
              "      <td>0.5</td>\n",
              "      <td>10</td>\n",
              "      <td>50</td>\n",
              "      <td>0.757325</td>\n",
              "      <td>0.822878</td>\n",
              "      <td>0.806753</td>\n",
              "      <td>0.033604</td>\n",
              "      <td>0.806753</td>\n",
              "      <td>6</td>\n",
              "    </tr>\n",
              "    <tr>\n",
              "      <th>12</th>\n",
              "      <td>10</td>\n",
              "      <td>1</td>\n",
              "      <td>10</td>\n",
              "      <td>50</td>\n",
              "      <td>0.757305</td>\n",
              "      <td>0.822576</td>\n",
              "      <td>0.806733</td>\n",
              "      <td>0.033604</td>\n",
              "      <td>0.806733</td>\n",
              "      <td>7</td>\n",
              "    </tr>\n",
              "    <tr>\n",
              "      <th>2</th>\n",
              "      <td>10</td>\n",
              "      <td>5</td>\n",
              "      <td>10</td>\n",
              "      <td>50</td>\n",
              "      <td>0.757213</td>\n",
              "      <td>0.822347</td>\n",
              "      <td>0.806636</td>\n",
              "      <td>0.033604</td>\n",
              "      <td>0.806636</td>\n",
              "      <td>8</td>\n",
              "    </tr>\n",
              "    <tr>\n",
              "      <th>10</th>\n",
              "      <td>6</td>\n",
              "      <td>0.5</td>\n",
              "      <td>6</td>\n",
              "      <td>200</td>\n",
              "      <td>0.756755</td>\n",
              "      <td>0.816330</td>\n",
              "      <td>0.805399</td>\n",
              "      <td>0.033342</td>\n",
              "      <td>0.805399</td>\n",
              "      <td>9</td>\n",
              "    </tr>\n",
              "    <tr>\n",
              "      <th>11</th>\n",
              "      <td>6</td>\n",
              "      <td>5</td>\n",
              "      <td>6</td>\n",
              "      <td>200</td>\n",
              "      <td>0.756681</td>\n",
              "      <td>0.816278</td>\n",
              "      <td>0.805355</td>\n",
              "      <td>0.032817</td>\n",
              "      <td>0.805355</td>\n",
              "      <td>10</td>\n",
              "    </tr>\n",
              "    <tr>\n",
              "      <th>5</th>\n",
              "      <td>6</td>\n",
              "      <td>0.5</td>\n",
              "      <td>6</td>\n",
              "      <td>100</td>\n",
              "      <td>0.750653</td>\n",
              "      <td>0.816508</td>\n",
              "      <td>0.802993</td>\n",
              "      <td>0.033079</td>\n",
              "      <td>0.802993</td>\n",
              "      <td>11</td>\n",
              "    </tr>\n",
              "    <tr>\n",
              "      <th>13</th>\n",
              "      <td>6</td>\n",
              "      <td>5</td>\n",
              "      <td>6</td>\n",
              "      <td>50</td>\n",
              "      <td>0.750493</td>\n",
              "      <td>0.816519</td>\n",
              "      <td>0.802929</td>\n",
              "      <td>0.032028</td>\n",
              "      <td>0.802929</td>\n",
              "      <td>12</td>\n",
              "    </tr>\n",
              "    <tr>\n",
              "      <th>3</th>\n",
              "      <td>6</td>\n",
              "      <td>0.5</td>\n",
              "      <td>6</td>\n",
              "      <td>20</td>\n",
              "      <td>0.749639</td>\n",
              "      <td>0.815814</td>\n",
              "      <td>0.802506</td>\n",
              "      <td>0.032291</td>\n",
              "      <td>0.802506</td>\n",
              "      <td>13</td>\n",
              "    </tr>\n",
              "    <tr>\n",
              "      <th>14</th>\n",
              "      <td>6</td>\n",
              "      <td>5</td>\n",
              "      <td>6</td>\n",
              "      <td>20</td>\n",
              "      <td>0.749607</td>\n",
              "      <td>0.816004</td>\n",
              "      <td>0.802494</td>\n",
              "      <td>0.032028</td>\n",
              "      <td>0.802494</td>\n",
              "      <td>14</td>\n",
              "    </tr>\n",
              "    <tr>\n",
              "      <th>17</th>\n",
              "      <td>3</td>\n",
              "      <td>0.5</td>\n",
              "      <td>3</td>\n",
              "      <td>200</td>\n",
              "      <td>0.695177</td>\n",
              "      <td>0.802319</td>\n",
              "      <td>0.782022</td>\n",
              "      <td>0.000000</td>\n",
              "      <td>0.782022</td>\n",
              "      <td>15</td>\n",
              "    </tr>\n",
              "    <tr>\n",
              "      <th>19</th>\n",
              "      <td>3</td>\n",
              "      <td>5</td>\n",
              "      <td>3</td>\n",
              "      <td>20</td>\n",
              "      <td>0.695156</td>\n",
              "      <td>0.795035</td>\n",
              "      <td>0.782002</td>\n",
              "      <td>0.000000</td>\n",
              "      <td>0.782002</td>\n",
              "      <td>16</td>\n",
              "    </tr>\n",
              "    <tr>\n",
              "      <th>7</th>\n",
              "      <td>3</td>\n",
              "      <td>0.5</td>\n",
              "      <td>3</td>\n",
              "      <td>20</td>\n",
              "      <td>0.695156</td>\n",
              "      <td>0.795035</td>\n",
              "      <td>0.782002</td>\n",
              "      <td>0.000000</td>\n",
              "      <td>0.782002</td>\n",
              "      <td>16</td>\n",
              "    </tr>\n",
              "    <tr>\n",
              "      <th>1</th>\n",
              "      <td>3</td>\n",
              "      <td>5</td>\n",
              "      <td>3</td>\n",
              "      <td>50</td>\n",
              "      <td>0.695144</td>\n",
              "      <td>0.797297</td>\n",
              "      <td>0.782002</td>\n",
              "      <td>0.000000</td>\n",
              "      <td>0.782002</td>\n",
              "      <td>16</td>\n",
              "    </tr>\n",
              "    <tr>\n",
              "      <th>8</th>\n",
              "      <td>3</td>\n",
              "      <td>0.5</td>\n",
              "      <td>3</td>\n",
              "      <td>100</td>\n",
              "      <td>0.694999</td>\n",
              "      <td>0.809875</td>\n",
              "      <td>0.781970</td>\n",
              "      <td>0.000000</td>\n",
              "      <td>0.781970</td>\n",
              "      <td>19</td>\n",
              "    </tr>\n",
              "    <tr>\n",
              "      <th>9</th>\n",
              "      <td>3</td>\n",
              "      <td>5</td>\n",
              "      <td>3</td>\n",
              "      <td>100</td>\n",
              "      <td>0.694999</td>\n",
              "      <td>0.809875</td>\n",
              "      <td>0.781970</td>\n",
              "      <td>0.000000</td>\n",
              "      <td>0.781970</td>\n",
              "      <td>19</td>\n",
              "    </tr>\n",
              "  </tbody>\n",
              "</table>\n",
              "</div>"
            ],
            "text/plain": [
              "   param_max_depth  ... rank_test_accuracy\n",
              "18              10  ...                  1\n",
              "6               10  ...                  2\n",
              "4               10  ...                  3\n",
              "15              10  ...                  4\n",
              "0               10  ...                  5\n",
              "16              10  ...                  6\n",
              "12              10  ...                  7\n",
              "2               10  ...                  8\n",
              "10               6  ...                  9\n",
              "11               6  ...                 10\n",
              "5                6  ...                 11\n",
              "13               6  ...                 12\n",
              "3                6  ...                 13\n",
              "14               6  ...                 14\n",
              "17               3  ...                 15\n",
              "19               3  ...                 16\n",
              "7                3  ...                 16\n",
              "1                3  ...                 16\n",
              "8                3  ...                 19\n",
              "9                3  ...                 19\n",
              "\n",
              "[20 rows x 10 columns]"
            ]
          },
          "metadata": {
            "tags": []
          },
          "execution_count": 25
        }
      ]
    },
    {
      "cell_type": "code",
      "metadata": {
        "id": "VXGX80SO33rs",
        "colab": {
          "base_uri": "https://localhost:8080/"
        },
        "outputId": "46bfb464-a4db-4429-9c63-ddb5e9a78858"
      },
      "source": [
        "y_test_pred = xgb_clf.predict(X_test)\n",
        "print(\"Accuracy Test {0:.2f}%\".format(100*accuracy_score(y_test,y_test_pred)))\n",
        "print(classification_report(y_test, y_test_pred))"
      ],
      "execution_count": null,
      "outputs": [
        {
          "output_type": "stream",
          "text": [
            "Accuracy Test 81.11%\n",
            "              precision    recall  f1-score   support\n",
            "\n",
            "           0       0.67      0.03      0.05      1305\n",
            "           1       0.70      0.98      0.82     49244\n",
            "           2       1.00      1.00      1.00     40253\n",
            "           3       0.80      0.17      0.29     23389\n",
            "\n",
            "    accuracy                           0.81    114191\n",
            "   macro avg       0.79      0.55      0.54    114191\n",
            "weighted avg       0.83      0.81      0.76    114191\n",
            "\n"
          ],
          "name": "stdout"
        }
      ]
    },
    {
      "cell_type": "markdown",
      "metadata": {
        "id": "gWDx02ic6isu"
      },
      "source": [
        "#Random Forest"
      ]
    },
    {
      "cell_type": "code",
      "metadata": {
        "id": "DhpTgWXO5Ahn"
      },
      "source": [
        "rf_model = RandomForestClassifier(bootstrap=True, warm_start=True, random_state=0)\n",
        "\n",
        "param_dist = {  \n",
        "            'n_estimators': [20,50,100,200],\n",
        "            'max_features': ['auto', 'sqrt', 'log2'],\n",
        "            'max_depth' : [None,4,6,8,10, 20, 30, 40, 50, 100],\n",
        "            'criterion' :['gini', 'entropy']\n",
        "        }\n",
        "\n",
        "scorers = {\n",
        "    'f1_weighted' : make_scorer(f1_score, average='weighted'),\n",
        "    'precision_weighted': make_scorer(precision_score, average='weighted'),\n",
        "    'recall_weighted': make_scorer(recall_score , average='weighted'),\n",
        "    'accuracy': make_scorer(accuracy_score),\n",
        "    'recall[deceased]' : make_scorer(recall_score,average=None,labels=[0])\n",
        "}\n",
        "\n",
        "\n",
        "# scorers = ['f1_weighted','precision_weighted','recall_weighted','accuracy']\n",
        "\n",
        "\n",
        "skf = StratifiedKFold(n_splits=5, shuffle = True)\n",
        "\n",
        "clf_rf = RandomizedSearchCV(rf_model, \n",
        "                    param_dist, \n",
        "                    scoring = scorers, \n",
        "                    n_jobs = -1, \n",
        "                    cv = skf.split(X_train, y_train),\n",
        "                    n_iter = 30,\n",
        "                    refit = 'recall[deceased]')\n",
        "\n",
        "clf_rf.fit(X_train, y_train)"
      ],
      "execution_count": null,
      "outputs": []
    },
    {
      "cell_type": "code",
      "metadata": {
        "id": "zsNOxNJ0r9Tg"
      },
      "source": [
        "rf = pd.DataFrame(clf_rf.cv_results_)\n",
        "rf = rf[['param_n_estimators',\t'param_max_features',\t'param_max_depth'\t, 'param_criterion', 'mean_test_f1_weighted', 'mean_test_precision_weighted', 'mean_test_recall_weighted', 'mean_test_recall[deceased]','mean_test_accuracy', 'rank_test_accuracy']]\n",
        "rf = rf.sort_values(by='rank_test_accuracy')\n",
        "rf.to_csv('rf.csv',index=False)"
      ],
      "execution_count": null,
      "outputs": []
    },
    {
      "cell_type": "code",
      "metadata": {
        "id": "HzIcO0dfsAJB"
      },
      "source": [
        "print(clf_rf.best_params_)\n",
        "print(clf_rf.best_score_)"
      ],
      "execution_count": null,
      "outputs": []
    },
    {
      "cell_type": "code",
      "metadata": {
        "id": "pLTFmN-2sCdp"
      },
      "source": [
        "y_test_pred = clf_rf.predict(X_test)\n",
        "print(accuracy_score(y_test,y_test_pred))\n",
        "print(\"Accuracy Test {0:.2f}%\".format(100*accuracy_score(y_test,y_test_pred)))\n",
        "print(classification_report(y_test, y_test_pred))"
      ],
      "execution_count": null,
      "outputs": []
    },
    {
      "cell_type": "markdown",
      "metadata": {
        "id": "ea_Y8fvw51Yc"
      },
      "source": [
        "#KNN Classifier"
      ]
    },
    {
      "cell_type": "code",
      "metadata": {
        "id": "lpxjGe1HkvTS"
      },
      "source": [
        "knn_model = KNeighborsClassifier()\n",
        "\n",
        "param_dist = {  \n",
        "            'n_neighbors': [3,4,5,8,10,15,20,25,30, 40, 50,100],\n",
        "            'weights': ['uniform', 'distance'],\n",
        "            'algorithm': ['auto', 'ball_tree', 'kd_tree', 'brute']      \n",
        "        }\n",
        "\n",
        "scorers = {\n",
        "    'f1_weighted' : make_scorer(f1_score, average='weighted'),\n",
        "    'precision_weighted': make_scorer(precision_score, average='weighted'),\n",
        "    'recall_weighted': make_scorer(recall_score , average='weighted'),\n",
        "    'accuracy': make_scorer(accuracy_score),\n",
        "    'recall[deceased]' : make_scorer(recall_score,average=None,labels=[0])\n",
        "}\n",
        "\n",
        "\n",
        "# scorers = ['f1_weighted','precision_weighted','recall_weighted','accuracy']\n",
        "\n",
        "\n",
        "skf = StratifiedKFold(n_splits=5, shuffle = True)\n",
        "\n",
        "clf_knn = RandomizedSearchCV(knn_model, \n",
        "                    param_dist, \n",
        "                    scoring = scorers, \n",
        "                    n_jobs = -1, \n",
        "                    cv = skf.split(X_train, y_train),\n",
        "                    n_iter = 30,\n",
        "                    refit = 'recall[deceased]')\n",
        "\n",
        "clf_knn.fit(X_train, y_train)"
      ],
      "execution_count": null,
      "outputs": []
    },
    {
      "cell_type": "code",
      "metadata": {
        "id": "Je0-kmDHkwMN"
      },
      "source": [
        "knn = pd.DataFrame(clf_knn.cv_results_)\n",
        "knn = knn[['param_n_neighbors','param_algorithm',\t'param_weights'\t, 'mean_test_f1_weighted', 'mean_test_precision_weighted', 'mean_test_recall_weighted','mean_test_recall[deceased]', 'mean_test_accuracy', 'rank_test_accuracy']]\n",
        "knn = knn.sort_values(by='rank_test_accuracy')\n",
        "knn.to_csv('knn.csv',index=False)\n",
        "knn"
      ],
      "execution_count": null,
      "outputs": []
    },
    {
      "cell_type": "code",
      "metadata": {
        "id": "7o3KB9eYk3fm"
      },
      "source": [
        "y_test_pred = clf_knn.predict(X_test)\n",
        "print(accuracy_score(y_test,y_test_pred) )\n",
        "print(\"Accuracy Test {0:.2f}%\".format(100*accuracy_score(y_test,y_test_pred)))\n",
        "print(classification_report(y_test, y_test_pred))"
      ],
      "execution_count": null,
      "outputs": []
    },
    {
      "cell_type": "code",
      "metadata": {
        "id": "UNCUea67k9ZH"
      },
      "source": [
        "print(clf_knn.best_params_)\n",
        "print(clf_knn.best_score_)"
      ],
      "execution_count": null,
      "outputs": []
    }
  ]
}